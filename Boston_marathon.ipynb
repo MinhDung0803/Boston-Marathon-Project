{
 "cells": [
  {
   "cell_type": "markdown",
   "metadata": {
    "scrolled": false
   },
   "source": [
    "# Boston Marathon Project"
   ]
  },
  {
   "cell_type": "markdown",
   "metadata": {},
   "source": [
    "## Loading the data of 2014"
   ]
  },
  {
   "cell_type": "code",
   "execution_count": 1,
   "metadata": {
    "scrolled": true
   },
   "outputs": [
    {
     "data": {
      "text/html": [
       "<div>\n",
       "<style scoped>\n",
       "    .dataframe tbody tr th:only-of-type {\n",
       "        vertical-align: middle;\n",
       "    }\n",
       "\n",
       "    .dataframe tbody tr th {\n",
       "        vertical-align: top;\n",
       "    }\n",
       "\n",
       "    .dataframe thead th {\n",
       "        text-align: right;\n",
       "    }\n",
       "</style>\n",
       "<table border=\"1\" class=\"dataframe\">\n",
       "  <thead>\n",
       "    <tr style=\"text-align: right;\">\n",
       "      <th></th>\n",
       "      <th>10k</th>\n",
       "      <th>name</th>\n",
       "      <th>division</th>\n",
       "      <th>25k</th>\n",
       "      <th>gender</th>\n",
       "      <th>age</th>\n",
       "      <th>official</th>\n",
       "      <th>bib</th>\n",
       "      <th>genderdiv</th>\n",
       "      <th>ctz</th>\n",
       "      <th>...</th>\n",
       "      <th>overall</th>\n",
       "      <th>pace</th>\n",
       "      <th>state</th>\n",
       "      <th>30k</th>\n",
       "      <th>5k</th>\n",
       "      <th>half</th>\n",
       "      <th>20k</th>\n",
       "      <th>country</th>\n",
       "      <th>city</th>\n",
       "      <th>40k</th>\n",
       "    </tr>\n",
       "  </thead>\n",
       "  <tbody>\n",
       "    <tr>\n",
       "      <th>0</th>\n",
       "      <td>17.37</td>\n",
       "      <td>Yamamoto, Hiroyuki</td>\n",
       "      <td>8</td>\n",
       "      <td>47.67</td>\n",
       "      <td>M</td>\n",
       "      <td>47</td>\n",
       "      <td>85.25</td>\n",
       "      <td>W1</td>\n",
       "      <td>8</td>\n",
       "      <td>NaN</td>\n",
       "      <td>...</td>\n",
       "      <td>8</td>\n",
       "      <td>3.27</td>\n",
       "      <td>NaN</td>\n",
       "      <td>59.18</td>\n",
       "      <td>8.02</td>\n",
       "      <td>39.72</td>\n",
       "      <td>37.65</td>\n",
       "      <td>JPN</td>\n",
       "      <td>Fukuoka</td>\n",
       "      <td>80.43</td>\n",
       "    </tr>\n",
       "    <tr>\n",
       "      <th>1</th>\n",
       "      <td>32.58</td>\n",
       "      <td>Jeptoo, Rita</td>\n",
       "      <td>1</td>\n",
       "      <td>82.43</td>\n",
       "      <td>F</td>\n",
       "      <td>33</td>\n",
       "      <td>138.95</td>\n",
       "      <td>F1</td>\n",
       "      <td>1</td>\n",
       "      <td>NaN</td>\n",
       "      <td>...</td>\n",
       "      <td>21</td>\n",
       "      <td>5.30</td>\n",
       "      <td>NaN</td>\n",
       "      <td>99.33</td>\n",
       "      <td>16.22</td>\n",
       "      <td>69.47</td>\n",
       "      <td>65.83</td>\n",
       "      <td>KEN</td>\n",
       "      <td>Eldoret</td>\n",
       "      <td>132.10</td>\n",
       "    </tr>\n",
       "    <tr>\n",
       "      <th>2</th>\n",
       "      <td>16.62</td>\n",
       "      <td>Van Dyk, Ernst F.</td>\n",
       "      <td>1</td>\n",
       "      <td>45.80</td>\n",
       "      <td>M</td>\n",
       "      <td>41</td>\n",
       "      <td>80.60</td>\n",
       "      <td>W2</td>\n",
       "      <td>1</td>\n",
       "      <td>NaN</td>\n",
       "      <td>...</td>\n",
       "      <td>1</td>\n",
       "      <td>3.08</td>\n",
       "      <td>NaN</td>\n",
       "      <td>56.45</td>\n",
       "      <td>7.75</td>\n",
       "      <td>38.03</td>\n",
       "      <td>36.10</td>\n",
       "      <td>RSA</td>\n",
       "      <td>Paarl</td>\n",
       "      <td>76.10</td>\n",
       "    </tr>\n",
       "    <tr>\n",
       "      <th>3</th>\n",
       "      <td>32.57</td>\n",
       "      <td>Dibaba, Mare</td>\n",
       "      <td>3</td>\n",
       "      <td>82.43</td>\n",
       "      <td>F</td>\n",
       "      <td>24</td>\n",
       "      <td>140.58</td>\n",
       "      <td>F2</td>\n",
       "      <td>3</td>\n",
       "      <td>NaN</td>\n",
       "      <td>...</td>\n",
       "      <td>27</td>\n",
       "      <td>5.37</td>\n",
       "      <td>NaN</td>\n",
       "      <td>99.33</td>\n",
       "      <td>16.20</td>\n",
       "      <td>69.47</td>\n",
       "      <td>65.83</td>\n",
       "      <td>ETH</td>\n",
       "      <td>Shoa</td>\n",
       "      <td>132.95</td>\n",
       "    </tr>\n",
       "    <tr>\n",
       "      <th>4</th>\n",
       "      <td>17.12</td>\n",
       "      <td>Hokinoue, Kota</td>\n",
       "      <td>2</td>\n",
       "      <td>46.37</td>\n",
       "      <td>M</td>\n",
       "      <td>40</td>\n",
       "      <td>81.23</td>\n",
       "      <td>W3</td>\n",
       "      <td>2</td>\n",
       "      <td>NaN</td>\n",
       "      <td>...</td>\n",
       "      <td>2</td>\n",
       "      <td>3.10</td>\n",
       "      <td>NaN</td>\n",
       "      <td>57.03</td>\n",
       "      <td>8.02</td>\n",
       "      <td>38.60</td>\n",
       "      <td>36.58</td>\n",
       "      <td>JPN</td>\n",
       "      <td>Nogata Fukuoka</td>\n",
       "      <td>76.72</td>\n",
       "    </tr>\n",
       "  </tbody>\n",
       "</table>\n",
       "<p>5 rows × 21 columns</p>\n",
       "</div>"
      ],
      "text/plain": [
       "     10k                name  division    25k gender  age  official bib  \\\n",
       "0  17.37  Yamamoto, Hiroyuki         8  47.67      M   47     85.25  W1   \n",
       "1  32.58        Jeptoo, Rita         1  82.43      F   33    138.95  F1   \n",
       "2  16.62   Van Dyk, Ernst F.         1  45.80      M   41     80.60  W2   \n",
       "3  32.57        Dibaba, Mare         3  82.43      F   24    140.58  F2   \n",
       "4  17.12      Hokinoue, Kota         2  46.37      M   40     81.23  W3   \n",
       "\n",
       "   genderdiv  ctz  ... overall  pace  state    30k     5k   half    20k  \\\n",
       "0          8  NaN  ...       8  3.27    NaN  59.18   8.02  39.72  37.65   \n",
       "1          1  NaN  ...      21  5.30    NaN  99.33  16.22  69.47  65.83   \n",
       "2          1  NaN  ...       1  3.08    NaN  56.45   7.75  38.03  36.10   \n",
       "3          3  NaN  ...      27  5.37    NaN  99.33  16.20  69.47  65.83   \n",
       "4          2  NaN  ...       2  3.10    NaN  57.03   8.02  38.60  36.58   \n",
       "\n",
       "  country            city     40k  \n",
       "0     JPN         Fukuoka   80.43  \n",
       "1     KEN         Eldoret  132.10  \n",
       "2     RSA           Paarl   76.10  \n",
       "3     ETH            Shoa  132.95  \n",
       "4     JPN  Nogata Fukuoka   76.72  \n",
       "\n",
       "[5 rows x 21 columns]"
      ]
     },
     "execution_count": 1,
     "metadata": {},
     "output_type": "execute_result"
    }
   ],
   "source": [
    "import pandas as pd\n",
    "df = pd.read_csv('results.csv')\n",
    "df.head(5)"
   ]
  },
  {
   "cell_type": "markdown",
   "metadata": {},
   "source": [
    "## Preprocessing data"
   ]
  },
  {
   "cell_type": "code",
   "execution_count": 2,
   "metadata": {},
   "outputs": [],
   "source": [
    "df = df.drop(['state','ctz','name'],1)"
   ]
  },
  {
   "cell_type": "code",
   "execution_count": 3,
   "metadata": {},
   "outputs": [
    {
     "name": "stdout",
     "output_type": "stream",
     "text": [
      "(31983, 18)\n"
     ]
    }
   ],
   "source": [
    "df = df.dropna()\n",
    "print(df.shape)\n",
    "indexnew = [i for i in range(len(df.age))]\n",
    "df.index = indexnew"
   ]
  },
  {
   "cell_type": "code",
   "execution_count": 13,
   "metadata": {},
   "outputs": [
    {
     "name": "stdout",
     "output_type": "stream",
     "text": [
      "(31686, 18)\n"
     ]
    }
   ],
   "source": [
    "indexnew = [i for i in range(len(df.age))]\n",
    "df.index = indexnew\n",
    "\n",
    "check = '-'\n",
    "for i in range(len(df.index)):\n",
    "    if str(df['5k'][i]) == check:\n",
    "        df = df.drop([i])\n",
    "        indexnew = [i for i in range(len(df.index))]\n",
    "        df.index = indexnew\n",
    "        \n",
    "for i in range(len(df.index)):\n",
    "    if str(df['10k'][i]) == check:\n",
    "        df = df.drop([i])\n",
    "        indexnew = [i for i in range(len(df.index))]\n",
    "        df.index = indexnew\n",
    "\n",
    "for i in range(len(df.index)):\n",
    "    if str(df['20k'][i]) == check:\n",
    "        df = df.drop([i])\n",
    "        indexnew = [i for i in range(len(df.index))]\n",
    "        df.index = indexnew\n",
    "        \n",
    "for i in range(len(df.index)):\n",
    "    if str(df['25k'][i]) == check:\n",
    "        df = df.drop([i])\n",
    "        indexnew = [i for i in range(len(df.index))]\n",
    "        df.index = indexnew\n",
    "\n",
    "for i in range(len(df.index)):\n",
    "    if str(df['30k'][i]) == check:\n",
    "        df = df.drop([i])\n",
    "        indexnew = [i for i in range(len(df.index))]\n",
    "        df.index = indexnew\n",
    "        \n",
    "for i in range(len(df.index)):\n",
    "    if str(df['35k'][i]) == check:\n",
    "        df = df.drop([i])\n",
    "        indexnew = [i for i in range(len(df.index))]\n",
    "        df.index = indexnew\n",
    "        \n",
    "for i in range(len(df.index)):\n",
    "    if str(df['40k'][i]) == check:\n",
    "        df = df.drop([i])\n",
    "        indexnew = [i for i in range(len(df.index))]\n",
    "        df.index = indexnew\n",
    "print(df.shape)"
   ]
  },
  {
   "cell_type": "code",
   "execution_count": 45,
   "metadata": {},
   "outputs": [
    {
     "name": "stdout",
     "output_type": "stream",
     "text": [
      "(31648, 20)\n"
     ]
    }
   ],
   "source": [
    "indexnew = [i for i in range(len(df.age))]\n",
    "df.index = indexnew\n",
    "\n",
    "for i in range(len(df.index)):\n",
    "    if str(df['half'][i]) == check:\n",
    "        df = df.drop([i])\n",
    "        indexnew = [i for i in range(len(df.index))]\n",
    "        df.index = indexnew\n",
    "print(df.shape)"
   ]
  },
  {
   "cell_type": "code",
   "execution_count": 46,
   "metadata": {
    "scrolled": false
   },
   "outputs": [
    {
     "data": {
      "text/html": [
       "<div>\n",
       "<style scoped>\n",
       "    .dataframe tbody tr th:only-of-type {\n",
       "        vertical-align: middle;\n",
       "    }\n",
       "\n",
       "    .dataframe tbody tr th {\n",
       "        vertical-align: top;\n",
       "    }\n",
       "\n",
       "    .dataframe thead th {\n",
       "        text-align: right;\n",
       "    }\n",
       "</style>\n",
       "<table border=\"1\" class=\"dataframe\">\n",
       "  <thead>\n",
       "    <tr style=\"text-align: right;\">\n",
       "      <th></th>\n",
       "      <th>division</th>\n",
       "      <th>age</th>\n",
       "      <th>official</th>\n",
       "      <th>genderdiv</th>\n",
       "      <th>overall</th>\n",
       "      <th>pace</th>\n",
       "      <th>official_num</th>\n",
       "      <th>gender_num</th>\n",
       "    </tr>\n",
       "  </thead>\n",
       "  <tbody>\n",
       "    <tr>\n",
       "      <th>count</th>\n",
       "      <td>31648.000000</td>\n",
       "      <td>31648.000000</td>\n",
       "      <td>31648.000000</td>\n",
       "      <td>31648.000000</td>\n",
       "      <td>31648.000000</td>\n",
       "      <td>31648.000000</td>\n",
       "      <td>31648.000000</td>\n",
       "      <td>31648.000000</td>\n",
       "    </tr>\n",
       "    <tr>\n",
       "      <th>mean</th>\n",
       "      <td>1922.800367</td>\n",
       "      <td>42.384700</td>\n",
       "      <td>241.952878</td>\n",
       "      <td>8003.025404</td>\n",
       "      <td>15834.008658</td>\n",
       "      <td>9.236483</td>\n",
       "      <td>241.952878</td>\n",
       "      <td>0.552452</td>\n",
       "    </tr>\n",
       "    <tr>\n",
       "      <th>std</th>\n",
       "      <td>1704.844465</td>\n",
       "      <td>11.299784</td>\n",
       "      <td>50.843279</td>\n",
       "      <td>4733.295012</td>\n",
       "      <td>9182.364552</td>\n",
       "      <td>1.939178</td>\n",
       "      <td>50.843279</td>\n",
       "      <td>0.497249</td>\n",
       "    </tr>\n",
       "    <tr>\n",
       "      <th>min</th>\n",
       "      <td>1.000000</td>\n",
       "      <td>18.000000</td>\n",
       "      <td>80.600000</td>\n",
       "      <td>1.000000</td>\n",
       "      <td>1.000000</td>\n",
       "      <td>3.080000</td>\n",
       "      <td>80.600000</td>\n",
       "      <td>0.000000</td>\n",
       "    </tr>\n",
       "    <tr>\n",
       "      <th>25%</th>\n",
       "      <td>607.000000</td>\n",
       "      <td>33.000000</td>\n",
       "      <td>205.300000</td>\n",
       "      <td>3940.000000</td>\n",
       "      <td>7879.750000</td>\n",
       "      <td>7.830000</td>\n",
       "      <td>205.300000</td>\n",
       "      <td>0.000000</td>\n",
       "    </tr>\n",
       "    <tr>\n",
       "      <th>50%</th>\n",
       "      <td>1418.000000</td>\n",
       "      <td>42.000000</td>\n",
       "      <td>231.980000</td>\n",
       "      <td>7919.000000</td>\n",
       "      <td>15829.500000</td>\n",
       "      <td>8.850000</td>\n",
       "      <td>231.980000</td>\n",
       "      <td>1.000000</td>\n",
       "    </tr>\n",
       "    <tr>\n",
       "      <th>75%</th>\n",
       "      <td>2601.000000</td>\n",
       "      <td>50.000000</td>\n",
       "      <td>272.200000</td>\n",
       "      <td>11893.000000</td>\n",
       "      <td>23785.250000</td>\n",
       "      <td>10.380000</td>\n",
       "      <td>272.200000</td>\n",
       "      <td>1.000000</td>\n",
       "    </tr>\n",
       "    <tr>\n",
       "      <th>max</th>\n",
       "      <td>6979.000000</td>\n",
       "      <td>81.000000</td>\n",
       "      <td>538.880000</td>\n",
       "      <td>17575.000000</td>\n",
       "      <td>31931.000000</td>\n",
       "      <td>20.570000</td>\n",
       "      <td>538.880000</td>\n",
       "      <td>1.000000</td>\n",
       "    </tr>\n",
       "  </tbody>\n",
       "</table>\n",
       "</div>"
      ],
      "text/plain": [
       "           division           age      official     genderdiv       overall  \\\n",
       "count  31648.000000  31648.000000  31648.000000  31648.000000  31648.000000   \n",
       "mean    1922.800367     42.384700    241.952878   8003.025404  15834.008658   \n",
       "std     1704.844465     11.299784     50.843279   4733.295012   9182.364552   \n",
       "min        1.000000     18.000000     80.600000      1.000000      1.000000   \n",
       "25%      607.000000     33.000000    205.300000   3940.000000   7879.750000   \n",
       "50%     1418.000000     42.000000    231.980000   7919.000000  15829.500000   \n",
       "75%     2601.000000     50.000000    272.200000  11893.000000  23785.250000   \n",
       "max     6979.000000     81.000000    538.880000  17575.000000  31931.000000   \n",
       "\n",
       "               pace  official_num    gender_num  \n",
       "count  31648.000000  31648.000000  31648.000000  \n",
       "mean       9.236483    241.952878      0.552452  \n",
       "std        1.939178     50.843279      0.497249  \n",
       "min        3.080000     80.600000      0.000000  \n",
       "25%        7.830000    205.300000      0.000000  \n",
       "50%        8.850000    231.980000      1.000000  \n",
       "75%       10.380000    272.200000      1.000000  \n",
       "max       20.570000    538.880000      1.000000  "
      ]
     },
     "execution_count": 46,
     "metadata": {},
     "output_type": "execute_result"
    }
   ],
   "source": [
    "df.describe()"
   ]
  },
  {
   "cell_type": "code",
   "execution_count": 47,
   "metadata": {},
   "outputs": [
    {
     "name": "stdout",
     "output_type": "stream",
     "text": [
      "<class 'pandas.core.frame.DataFrame'>\n",
      "Int64Index: 31648 entries, 0 to 31647\n",
      "Data columns (total 20 columns):\n",
      " #   Column        Non-Null Count  Dtype  \n",
      "---  ------        --------------  -----  \n",
      " 0   10k           31648 non-null  object \n",
      " 1   division      31648 non-null  int64  \n",
      " 2   25k           31648 non-null  object \n",
      " 3   gender        31648 non-null  object \n",
      " 4   age           31648 non-null  int64  \n",
      " 5   official      31648 non-null  float64\n",
      " 6   bib           31648 non-null  object \n",
      " 7   genderdiv     31648 non-null  int64  \n",
      " 8   35k           31648 non-null  object \n",
      " 9   overall       31648 non-null  int64  \n",
      " 10  pace          31648 non-null  float64\n",
      " 11  30k           31648 non-null  object \n",
      " 12  5k            31648 non-null  object \n",
      " 13  half          31648 non-null  object \n",
      " 14  20k           31648 non-null  object \n",
      " 15  country       31648 non-null  object \n",
      " 16  city          31648 non-null  object \n",
      " 17  40k           31648 non-null  object \n",
      " 18  official_num  31648 non-null  float64\n",
      " 19  gender_num    31648 non-null  int64  \n",
      "dtypes: float64(3), int64(5), object(12)\n",
      "memory usage: 6.3+ MB\n"
     ]
    }
   ],
   "source": [
    "df.info()"
   ]
  },
  {
   "cell_type": "code",
   "execution_count": 48,
   "metadata": {},
   "outputs": [],
   "source": [
    "indexnew = [i for i in range(len(df.age))]\n",
    "df.index = indexnew"
   ]
  },
  {
   "cell_type": "code",
   "execution_count": 49,
   "metadata": {},
   "outputs": [],
   "source": [
    "df['official_num'] = df.official.apply(lambda x: float(x))"
   ]
  },
  {
   "cell_type": "code",
   "execution_count": 50,
   "metadata": {},
   "outputs": [
    {
     "data": {
      "text/html": [
       "<div>\n",
       "<style scoped>\n",
       "    .dataframe tbody tr th:only-of-type {\n",
       "        vertical-align: middle;\n",
       "    }\n",
       "\n",
       "    .dataframe tbody tr th {\n",
       "        vertical-align: top;\n",
       "    }\n",
       "\n",
       "    .dataframe thead th {\n",
       "        text-align: right;\n",
       "    }\n",
       "</style>\n",
       "<table border=\"1\" class=\"dataframe\">\n",
       "  <thead>\n",
       "    <tr style=\"text-align: right;\">\n",
       "      <th></th>\n",
       "      <th>10k</th>\n",
       "      <th>division</th>\n",
       "      <th>25k</th>\n",
       "      <th>gender</th>\n",
       "      <th>age</th>\n",
       "      <th>official</th>\n",
       "      <th>bib</th>\n",
       "      <th>genderdiv</th>\n",
       "      <th>35k</th>\n",
       "      <th>overall</th>\n",
       "      <th>pace</th>\n",
       "      <th>30k</th>\n",
       "      <th>5k</th>\n",
       "      <th>half</th>\n",
       "      <th>20k</th>\n",
       "      <th>country</th>\n",
       "      <th>city</th>\n",
       "      <th>40k</th>\n",
       "      <th>official_num</th>\n",
       "      <th>gender_num</th>\n",
       "    </tr>\n",
       "  </thead>\n",
       "  <tbody>\n",
       "    <tr>\n",
       "      <th>0</th>\n",
       "      <td>17.37</td>\n",
       "      <td>8</td>\n",
       "      <td>47.67</td>\n",
       "      <td>M</td>\n",
       "      <td>47</td>\n",
       "      <td>85.25</td>\n",
       "      <td>W1</td>\n",
       "      <td>8</td>\n",
       "      <td>71.40</td>\n",
       "      <td>8</td>\n",
       "      <td>3.27</td>\n",
       "      <td>59.18</td>\n",
       "      <td>8.02</td>\n",
       "      <td>39.72</td>\n",
       "      <td>37.65</td>\n",
       "      <td>JPN</td>\n",
       "      <td>Fukuoka</td>\n",
       "      <td>80.43</td>\n",
       "      <td>85.25</td>\n",
       "      <td>1</td>\n",
       "    </tr>\n",
       "    <tr>\n",
       "      <th>1</th>\n",
       "      <td>32.58</td>\n",
       "      <td>1</td>\n",
       "      <td>82.43</td>\n",
       "      <td>F</td>\n",
       "      <td>33</td>\n",
       "      <td>138.95</td>\n",
       "      <td>F1</td>\n",
       "      <td>1</td>\n",
       "      <td>116.37</td>\n",
       "      <td>21</td>\n",
       "      <td>5.30</td>\n",
       "      <td>99.33</td>\n",
       "      <td>16.22</td>\n",
       "      <td>69.47</td>\n",
       "      <td>65.83</td>\n",
       "      <td>KEN</td>\n",
       "      <td>Eldoret</td>\n",
       "      <td>132.10</td>\n",
       "      <td>138.95</td>\n",
       "      <td>0</td>\n",
       "    </tr>\n",
       "    <tr>\n",
       "      <th>2</th>\n",
       "      <td>16.62</td>\n",
       "      <td>1</td>\n",
       "      <td>45.80</td>\n",
       "      <td>M</td>\n",
       "      <td>41</td>\n",
       "      <td>80.60</td>\n",
       "      <td>W2</td>\n",
       "      <td>1</td>\n",
       "      <td>67.42</td>\n",
       "      <td>1</td>\n",
       "      <td>3.08</td>\n",
       "      <td>56.45</td>\n",
       "      <td>7.75</td>\n",
       "      <td>38.03</td>\n",
       "      <td>36.10</td>\n",
       "      <td>RSA</td>\n",
       "      <td>Paarl</td>\n",
       "      <td>76.10</td>\n",
       "      <td>80.60</td>\n",
       "      <td>1</td>\n",
       "    </tr>\n",
       "    <tr>\n",
       "      <th>3</th>\n",
       "      <td>32.57</td>\n",
       "      <td>3</td>\n",
       "      <td>82.43</td>\n",
       "      <td>F</td>\n",
       "      <td>24</td>\n",
       "      <td>140.58</td>\n",
       "      <td>F2</td>\n",
       "      <td>3</td>\n",
       "      <td>116.37</td>\n",
       "      <td>27</td>\n",
       "      <td>5.37</td>\n",
       "      <td>99.33</td>\n",
       "      <td>16.20</td>\n",
       "      <td>69.47</td>\n",
       "      <td>65.83</td>\n",
       "      <td>ETH</td>\n",
       "      <td>Shoa</td>\n",
       "      <td>132.95</td>\n",
       "      <td>140.58</td>\n",
       "      <td>0</td>\n",
       "    </tr>\n",
       "    <tr>\n",
       "      <th>4</th>\n",
       "      <td>17.12</td>\n",
       "      <td>2</td>\n",
       "      <td>46.37</td>\n",
       "      <td>M</td>\n",
       "      <td>40</td>\n",
       "      <td>81.23</td>\n",
       "      <td>W3</td>\n",
       "      <td>2</td>\n",
       "      <td>67.83</td>\n",
       "      <td>2</td>\n",
       "      <td>3.10</td>\n",
       "      <td>57.03</td>\n",
       "      <td>8.02</td>\n",
       "      <td>38.60</td>\n",
       "      <td>36.58</td>\n",
       "      <td>JPN</td>\n",
       "      <td>Nogata Fukuoka</td>\n",
       "      <td>76.72</td>\n",
       "      <td>81.23</td>\n",
       "      <td>1</td>\n",
       "    </tr>\n",
       "  </tbody>\n",
       "</table>\n",
       "</div>"
      ],
      "text/plain": [
       "     10k  division    25k gender  age  official bib  genderdiv     35k  \\\n",
       "0  17.37         8  47.67      M   47     85.25  W1          8   71.40   \n",
       "1  32.58         1  82.43      F   33    138.95  F1          1  116.37   \n",
       "2  16.62         1  45.80      M   41     80.60  W2          1   67.42   \n",
       "3  32.57         3  82.43      F   24    140.58  F2          3  116.37   \n",
       "4  17.12         2  46.37      M   40     81.23  W3          2   67.83   \n",
       "\n",
       "   overall  pace    30k     5k   half    20k country            city     40k  \\\n",
       "0        8  3.27  59.18   8.02  39.72  37.65     JPN         Fukuoka   80.43   \n",
       "1       21  5.30  99.33  16.22  69.47  65.83     KEN         Eldoret  132.10   \n",
       "2        1  3.08  56.45   7.75  38.03  36.10     RSA           Paarl   76.10   \n",
       "3       27  5.37  99.33  16.20  69.47  65.83     ETH            Shoa  132.95   \n",
       "4        2  3.10  57.03   8.02  38.60  36.58     JPN  Nogata Fukuoka   76.72   \n",
       "\n",
       "   official_num  gender_num  \n",
       "0         85.25           1  \n",
       "1        138.95           0  \n",
       "2         80.60           1  \n",
       "3        140.58           0  \n",
       "4         81.23           1  "
      ]
     },
     "execution_count": 50,
     "metadata": {},
     "output_type": "execute_result"
    }
   ],
   "source": [
    "from sklearn import preprocessing\n",
    "#creating labelEncoder\n",
    "le = preprocessing.LabelEncoder()\n",
    "\n",
    "#For gender feature\n",
    "gender_num = le.fit_transform(df.gender)\n",
    "df[\"gender_num\"] = gender_num\n",
    "\n",
    "df.head(5)"
   ]
  },
  {
   "cell_type": "markdown",
   "metadata": {},
   "source": [
    "## Examine and explore data (visualization, interactions among features)"
   ]
  },
  {
   "cell_type": "code",
   "execution_count": 51,
   "metadata": {},
   "outputs": [
    {
     "data": {
      "text/plain": [
       "<AxesSubplot:title={'center':'Average time by age group'}, xlabel='age'>"
      ]
     },
     "execution_count": 51,
     "metadata": {},
     "output_type": "execute_result"
    },
    {
     "data": {
      "image/png": "[encoded data removed]",
      "text/plain": [
       "<Figure size 576x396 with 1 Axes>"
      ]
     },
     "metadata": {},
     "output_type": "display_data"
    }
   ],
   "source": [
    "import numpy as np\n",
    "df['official_num'].groupby(pd.cut(df['age'], range(15,90,5))).aggregate(np.average).plot(kind=\"bar\", title=\"Average time by age group\")"
   ]
  },
  {
   "cell_type": "code",
   "execution_count": 52,
   "metadata": {},
   "outputs": [
    {
     "data": {
      "text/plain": [
       "<AxesSubplot:title={'center':'The number of runners by age group'}, xlabel='age'>"
      ]
     },
     "execution_count": 52,
     "metadata": {},
     "output_type": "execute_result"
    },
    {
     "data": {
      "image/png": "[encoded data removed]",
      "text/plain": [
       "<Figure size 576x396 with 1 Axes>"
      ]
     },
     "metadata": {},
     "output_type": "display_data"
    }
   ],
   "source": [
    "df['official'].groupby(pd.cut(df['age'], range(15,90,5))).aggregate(len).plot(kind=\"bar\", title=\"The number of runners by age group\")"
   ]
  },
  {
   "cell_type": "markdown",
   "metadata": {},
   "source": [
    "## Select k clusters"
   ]
  },
  {
   "cell_type": "code",
   "execution_count": 53,
   "metadata": {
    "scrolled": false
   },
   "outputs": [
    {
     "data": {
      "image/png": "[encoded data removed]",
      "text/plain": [
       "<Figure size 576x396 with 2 Axes>"
      ]
     },
     "metadata": {},
     "output_type": "display_data"
    },
    {
     "data": {
      "text/plain": [
       "<AxesSubplot:title={'center':'Distortion Score Elbow for KMeans Clustering'}, xlabel='k', ylabel='distortion score'>"
      ]
     },
     "execution_count": 53,
     "metadata": {},
     "output_type": "execute_result"
    }
   ],
   "source": [
    "from yellowbrick.cluster import KElbowVisualizer\n",
    "from sklearn.cluster import KMeans\n",
    "from sklearn.datasets import make_blobs\n",
    "\n",
    "X = df[['age','official','genderdiv','overall','official_num','gender_num','division']]\n",
    "\n",
    "model = KMeans()\n",
    "visualizer = KElbowVisualizer(model, k=(4,12))\n",
    "visualizer.fit(X)        # Fit the data to the visualizer\n",
    "visualizer.show()        # Finalize and render the figure"
   ]
  },
  {
   "cell_type": "markdown",
   "metadata": {},
   "source": [
    "## Clusterring the data"
   ]
  },
  {
   "cell_type": "code",
   "execution_count": 54,
   "metadata": {},
   "outputs": [
    {
     "data": {
      "text/plain": [
       "KMeans(n_clusters=6)"
      ]
     },
     "execution_count": 54,
     "metadata": {},
     "output_type": "execute_result"
    }
   ],
   "source": [
    "from sklearn.cluster import KMeans\n",
    "\n",
    "kmeans = KMeans(n_clusters=6)\n",
    "kmeans.fit(X)"
   ]
  },
  {
   "cell_type": "code",
   "execution_count": 55,
   "metadata": {},
   "outputs": [
    {
     "name": "stdout",
     "output_type": "stream",
     "text": [
      "Result:  [1 1 1 ... 5 2 0]\n",
      "31648\n"
     ]
    }
   ],
   "source": [
    "result = kmeans.labels_\n",
    "print(\"Result: \",result)\n",
    "print(len(result))"
   ]
  },
  {
   "cell_type": "code",
   "execution_count": 56,
   "metadata": {},
   "outputs": [
    {
     "name": "stdout",
     "output_type": "stream",
     "text": [
      "The number of values in each cluster: \n"
     ]
    },
    {
     "data": {
      "text/plain": [
       "{0: 5342, 1: 4884, 2: 5405, 3: 5304, 4: 5389, 5: 5324}"
      ]
     },
     "execution_count": 56,
     "metadata": {},
     "output_type": "execute_result"
    }
   ],
   "source": [
    "import numpy as np\n",
    "unique, counts = np.unique(result, return_counts=True)\n",
    "print(\"The number of values in each cluster: \")\n",
    "dict(zip(unique, counts))"
   ]
  },
  {
   "cell_type": "code",
   "execution_count": 57,
   "metadata": {},
   "outputs": [
    {
     "name": "stdout",
     "output_type": "stream",
     "text": [
      "5342\n",
      "4884\n",
      "5405\n",
      "5304\n",
      "5389\n",
      "5324\n"
     ]
    }
   ],
   "source": [
    "cluster0_index = []\n",
    "cluster1_index = []\n",
    "cluster2_index = []\n",
    "cluster3_index = []\n",
    "cluster4_index = []\n",
    "cluster5_index = []\n",
    "\n",
    "for i in range(len(result)):\n",
    "    if int(result[i]) == 0:\n",
    "        cluster0_index.append(i)\n",
    "    elif int(result[i]) == 1:\n",
    "        cluster1_index.append(i)\n",
    "    elif int(result[i]) == 2:\n",
    "        cluster2_index.append(i)\n",
    "    elif int(result[i]) == 3:\n",
    "        cluster3_index.append(i)\n",
    "    elif int(result[i]) == 4:\n",
    "        cluster4_index.append(i)\n",
    "    elif int(result[i]) == 5:\n",
    "        cluster5_index.append(i)\n",
    "        \n",
    "print(len(cluster0_index))\n",
    "print(len(cluster1_index))\n",
    "print(len(cluster2_index))\n",
    "print(len(cluster3_index))\n",
    "print(len(cluster4_index))\n",
    "print(len(cluster5_index))\n",
    "\n",
    "\n",
    "cluster0 = df.loc[cluster0_index]\n",
    "cluster1 = df.loc[cluster1_index]\n",
    "cluster2 = df.loc[cluster2_index]\n",
    "cluster3 = df.loc[cluster3_index]\n",
    "cluster4 = df.loc[cluster4_index]\n",
    "cluster5 = df.loc[cluster5_index]"
   ]
  },
  {
   "cell_type": "code",
   "execution_count": 80,
   "metadata": {},
   "outputs": [],
   "source": [
    "indexnew = [i for i in range(len(cluster0.index))]\n",
    "cluster0.index = indexnew\n",
    "\n",
    "indexnew = [i for i in range(len(cluster1.index))]\n",
    "cluster1.index = indexnew\n",
    "\n",
    "indexnew = [i for i in range(len(cluster2.index))]\n",
    "cluster2.index = indexnew\n",
    "\n",
    "indexnew = [i for i in range(len(cluster3.index))]\n",
    "cluster3.index = indexnew\n",
    "\n",
    "indexnew = [i for i in range(len(cluster4.index))]\n",
    "cluster4.index = indexnew\n",
    "\n",
    "indexnew = [i for i in range(len(cluster5.index))]\n",
    "cluster5.index = indexnew"
   ]
  },
  {
   "cell_type": "markdown",
   "metadata": {},
   "source": [
    "## Collecting information of all clusters"
   ]
  },
  {
   "cell_type": "code",
   "execution_count": 58,
   "metadata": {
    "scrolled": true
   },
   "outputs": [
    {
     "data": {
      "text/html": [
       "<div>\n",
       "<style scoped>\n",
       "    .dataframe tbody tr th:only-of-type {\n",
       "        vertical-align: middle;\n",
       "    }\n",
       "\n",
       "    .dataframe tbody tr th {\n",
       "        vertical-align: top;\n",
       "    }\n",
       "\n",
       "    .dataframe thead th {\n",
       "        text-align: right;\n",
       "    }\n",
       "</style>\n",
       "<table border=\"1\" class=\"dataframe\">\n",
       "  <thead>\n",
       "    <tr style=\"text-align: right;\">\n",
       "      <th></th>\n",
       "      <th>10k</th>\n",
       "      <th>division</th>\n",
       "      <th>25k</th>\n",
       "      <th>gender</th>\n",
       "      <th>age</th>\n",
       "      <th>official</th>\n",
       "      <th>bib</th>\n",
       "      <th>genderdiv</th>\n",
       "      <th>35k</th>\n",
       "      <th>overall</th>\n",
       "      <th>pace</th>\n",
       "      <th>30k</th>\n",
       "      <th>5k</th>\n",
       "      <th>half</th>\n",
       "      <th>20k</th>\n",
       "      <th>country</th>\n",
       "      <th>city</th>\n",
       "      <th>40k</th>\n",
       "      <th>official_num</th>\n",
       "      <th>gender_num</th>\n",
       "    </tr>\n",
       "  </thead>\n",
       "  <tbody>\n",
       "    <tr>\n",
       "      <th>456</th>\n",
       "      <td>36.87</td>\n",
       "      <td>4155</td>\n",
       "      <td>97.22</td>\n",
       "      <td>M</td>\n",
       "      <td>28</td>\n",
       "      <td>245.03</td>\n",
       "      <td>468</td>\n",
       "      <td>11593</td>\n",
       "      <td>154.77</td>\n",
       "      <td>19117</td>\n",
       "      <td>9.35</td>\n",
       "      <td>121.43</td>\n",
       "      <td>18.57</td>\n",
       "      <td>79.90</td>\n",
       "      <td>75.63</td>\n",
       "      <td>USA</td>\n",
       "      <td>Wake Forest</td>\n",
       "      <td>222.00</td>\n",
       "      <td>245.03</td>\n",
       "      <td>1</td>\n",
       "    </tr>\n",
       "    <tr>\n",
       "      <th>465</th>\n",
       "      <td>45.88</td>\n",
       "      <td>1731</td>\n",
       "      <td>129.17</td>\n",
       "      <td>M</td>\n",
       "      <td>43</td>\n",
       "      <td>230.80</td>\n",
       "      <td>479</td>\n",
       "      <td>10056</td>\n",
       "      <td>186.55</td>\n",
       "      <td>15507</td>\n",
       "      <td>8.82</td>\n",
       "      <td>157.32</td>\n",
       "      <td>22.43</td>\n",
       "      <td>101.33</td>\n",
       "      <td>95.90</td>\n",
       "      <td>POL</td>\n",
       "      <td>Szczecin</td>\n",
       "      <td>217.45</td>\n",
       "      <td>230.80</td>\n",
       "      <td>1</td>\n",
       "    </tr>\n",
       "    <tr>\n",
       "      <th>584</th>\n",
       "      <td>45.33</td>\n",
       "      <td>3818</td>\n",
       "      <td>124.02</td>\n",
       "      <td>M</td>\n",
       "      <td>33</td>\n",
       "      <td>228.67</td>\n",
       "      <td>611</td>\n",
       "      <td>9812</td>\n",
       "      <td>189.28</td>\n",
       "      <td>14930</td>\n",
       "      <td>8.73</td>\n",
       "      <td>157.72</td>\n",
       "      <td>21.93</td>\n",
       "      <td>98.20</td>\n",
       "      <td>92.98</td>\n",
       "      <td>USA</td>\n",
       "      <td>Santa Monica</td>\n",
       "      <td>216.52</td>\n",
       "      <td>228.67</td>\n",
       "      <td>1</td>\n",
       "    </tr>\n",
       "  </tbody>\n",
       "</table>\n",
       "</div>"
      ],
      "text/plain": [
       "       10k  division     25k gender  age  official  bib  genderdiv     35k  \\\n",
       "456  36.87      4155   97.22      M   28    245.03  468      11593  154.77   \n",
       "465  45.88      1731  129.17      M   43    230.80  479      10056  186.55   \n",
       "584  45.33      3818  124.02      M   33    228.67  611       9812  189.28   \n",
       "\n",
       "     overall  pace     30k     5k    half    20k country          city  \\\n",
       "456    19117  9.35  121.43  18.57   79.90  75.63     USA   Wake Forest   \n",
       "465    15507  8.82  157.32  22.43  101.33  95.90     POL      Szczecin   \n",
       "584    14930  8.73  157.72  21.93   98.20  92.98     USA  Santa Monica   \n",
       "\n",
       "        40k  official_num  gender_num  \n",
       "456  222.00        245.03           1  \n",
       "465  217.45        230.80           1  \n",
       "584  216.52        228.67           1  "
      ]
     },
     "execution_count": 58,
     "metadata": {},
     "output_type": "execute_result"
    }
   ],
   "source": [
    "cluster0.head(3)"
   ]
  },
  {
   "cell_type": "markdown",
   "metadata": {},
   "source": [
    "## division feature"
   ]
  },
  {
   "cell_type": "code",
   "execution_count": 60,
   "metadata": {},
   "outputs": [
    {
     "name": "stdout",
     "output_type": "stream",
     "text": [
      "1846.93\n",
      "746.45\n",
      "3521.82\n",
      "1567.98\n",
      "1216.93\n",
      "2522.68\n"
     ]
    }
   ],
   "source": [
    "print(round(cluster0.division.mean(),2))\n",
    "print(round(cluster1.division.mean(),2))\n",
    "print(round(cluster2.division.mean(),2))\n",
    "print(round(cluster3.division.mean(),2))\n",
    "print(round(cluster4.division.mean(),2))\n",
    "print(round(cluster5.division.mean(),2))"
   ]
  },
  {
   "cell_type": "markdown",
   "metadata": {},
   "source": [
    "## gender feature"
   ]
  },
  {
   "cell_type": "code",
   "execution_count": 61,
   "metadata": {},
   "outputs": [
    {
     "name": "stdout",
     "output_type": "stream",
     "text": [
      "Cluster 0:  F    2961\n",
      "M    2381\n",
      "Name: gender, dtype: int64\n",
      "Cluster 1:  M    4065\n",
      "F     819\n",
      "Name: gender, dtype: int64\n",
      "Cluster 2:  M    2942\n",
      "F    2463\n",
      "Name: gender, dtype: int64\n",
      "Cluster 3:  F    2969\n",
      "M    2335\n",
      "Name: gender, dtype: int64\n",
      "Cluster 4:  M    3239\n",
      "F    2150\n",
      "Name: gender, dtype: int64\n",
      "Cluster 5:  F    2802\n",
      "M    2522\n",
      "Name: gender, dtype: int64\n"
     ]
    }
   ],
   "source": [
    "print(\"Cluster 0: \",cluster0.gender.value_counts())\n",
    "print(\"Cluster 1: \",cluster1.gender.value_counts())\n",
    "print(\"Cluster 2: \",cluster2.gender.value_counts())\n",
    "print(\"Cluster 3: \",cluster3.gender.value_counts())\n",
    "print(\"Cluster 4: \",cluster4.gender.value_counts())\n",
    "print(\"Cluster 5: \",cluster5.gender.value_counts())"
   ]
  },
  {
   "cell_type": "code",
   "execution_count": 85,
   "metadata": {},
   "outputs": [
    {
     "name": "stdout",
     "output_type": "stream",
     "text": [
      "6\n",
      "6\n"
     ]
    }
   ],
   "source": [
    "m_total = []\n",
    "f_total = []\n",
    "\n",
    "m0 = 0\n",
    "f0 = 0\n",
    "for i in range(len(cluster0.gender)):\n",
    "    if cluster0.gender[i] == \"M\":\n",
    "        m0 = m0+1\n",
    "    elif cluster0.gender[i] == \"F\":\n",
    "        f0 = f0+1\n",
    "    else:\n",
    "        pass\n",
    "m_total.append(m0)\n",
    "f_total.append(f0)\n",
    "\n",
    "\n",
    "m1 = 0\n",
    "f1 = 0\n",
    "for i in range(len(cluster1.gender)):\n",
    "    if cluster1.gender[i] == \"M\":\n",
    "        m1 = m1+1\n",
    "    elif cluster1.gender[i] == \"F\":\n",
    "        f1 = f1+1\n",
    "    else:\n",
    "        pass\n",
    "m_total.append(m1)\n",
    "f_total.append(f1)\n",
    "\n",
    "\n",
    "m2 = 0\n",
    "f2 = 0\n",
    "for i in range(len(cluster2.gender)):\n",
    "    if cluster2.gender[i] == \"M\":\n",
    "        m2 = m2+1\n",
    "    elif cluster2.gender[i] == \"F\":\n",
    "        f2= f2+1\n",
    "    else:\n",
    "        pass\n",
    "m_total.append(m2)\n",
    "f_total.append(f2)\n",
    "\n",
    "m3 = 0\n",
    "f3 = 0\n",
    "for i in range(len(cluster3.gender)):\n",
    "    if cluster3.gender[i] == \"M\":\n",
    "        m3 = m2+1\n",
    "    elif cluster3.gender[i] == \"F\":\n",
    "        f3= f3+1\n",
    "    else:\n",
    "        pass\n",
    "m_total.append(m3)\n",
    "f_total.append(f3)\n",
    "\n",
    "m4 = 0\n",
    "f4 = 0\n",
    "for i in range(len(cluster4.gender)):\n",
    "    if cluster4.gender[i] == \"M\":\n",
    "        m4 = m4+1\n",
    "    elif cluster4.gender[i] == \"F\":\n",
    "        f4= f4+1\n",
    "    else:\n",
    "        pass\n",
    "m_total.append(m4)\n",
    "f_total.append(f4)\n",
    "\n",
    "m5 = 0\n",
    "f5 = 0\n",
    "for i in range(len(cluster5.gender)):\n",
    "    if cluster5.gender[i] == \"M\":\n",
    "        m5 = m5+1\n",
    "    elif cluster5.gender[i] == \"F\":\n",
    "        f5= f5+1\n",
    "    else:\n",
    "        pass\n",
    "m_total.append(m5)\n",
    "f_total.append(f5)\n",
    "\n",
    "print(len(m_total))\n",
    "print(len(f_total))"
   ]
  },
  {
   "cell_type": "code",
   "execution_count": 90,
   "metadata": {},
   "outputs": [
    {
     "data": {
      "image/png": "[encoded data removed]",
      "text/plain": [
       "<Figure size 576x396 with 1 Axes>"
      ]
     },
     "metadata": {},
     "output_type": "display_data"
    }
   ],
   "source": [
    "import matplotlib.pyplot as plt\n",
    "fig = plt.figure()\n",
    "ax = fig.add_axes([0,0,1,1])\n",
    "langs = ['cluster0','cluster1','cluster2','cluster3','cluster4','cluster5']\n",
    "students = m_total\n",
    "ax.bar(langs,students)\n",
    "plt.title(\"Number of MALES in each clsuter\")\n",
    "plt.show()"
   ]
  },
  {
   "cell_type": "code",
   "execution_count": 91,
   "metadata": {},
   "outputs": [
    {
     "data": {
      "image/png": "[encoded data removed]",
      "text/plain": [
       "<Figure size 576x396 with 1 Axes>"
      ]
     },
     "metadata": {},
     "output_type": "display_data"
    }
   ],
   "source": [
    "fig = plt.figure()\n",
    "ax = fig.add_axes([0,0,1,1])\n",
    "langs = ['cluster0','cluster1','cluster2','cluster3','cluster4','cluster5']\n",
    "students = f_total\n",
    "ax.bar(langs,students)\n",
    "plt.title(\"Number of FEMALES in each clsuter\")\n",
    "plt.show()"
   ]
  },
  {
   "cell_type": "markdown",
   "metadata": {},
   "source": [
    "## age feature"
   ]
  },
  {
   "cell_type": "code",
   "execution_count": 96,
   "metadata": {},
   "outputs": [
    {
     "name": "stdout",
     "output_type": "stream",
     "text": [
      "Mean age in cluster0:  45\n",
      "Mean age in cluster1:  36\n",
      "Mean age in cluster2:  43\n",
      "Mean age in cluster3:  43\n",
      "Mean age in cluster4:  40\n",
      "Mean age in cluster5:  45\n"
     ]
    },
    {
     "data": {
      "image/png": "[encoded data removed]",
      "text/plain": [
       "<Figure size 576x396 with 1 Axes>"
      ]
     },
     "metadata": {},
     "output_type": "display_data"
    }
   ],
   "source": [
    "print(\"Mean age in cluster0: \",int(cluster0.age.mean()))\n",
    "print(\"Mean age in cluster1: \",int(cluster1.age.mean()))\n",
    "print(\"Mean age in cluster2: \",int(cluster2.age.mean()))\n",
    "print(\"Mean age in cluster3: \",int(cluster3.age.mean()))\n",
    "print(\"Mean age in cluster4: \",int(cluster4.age.mean()))\n",
    "print(\"Mean age in cluster5: \",int(cluster5.age.mean()))\n",
    "mean_age = []\n",
    "mean_age.append(int(cluster0.age.mean()))\n",
    "mean_age.append(int(cluster1.age.mean()))\n",
    "mean_age.append(int(cluster2.age.mean()))\n",
    "mean_age.append(int(cluster3.age.mean()))\n",
    "mean_age.append(int(cluster4.age.mean()))\n",
    "mean_age.append(int(cluster5.age.mean()))\n",
    "fig = plt.figure()\n",
    "ax = fig.add_axes([0,0,1,1])\n",
    "langs = ['cluster0','cluster1','cluster2','cluster3','cluster4','cluster5']\n",
    "students = mean_age\n",
    "ax.bar(langs,students)\n",
    "plt.title(\"Average of age in each clsuter\")\n",
    "plt.show()"
   ]
  },
  {
   "cell_type": "code",
   "execution_count": 101,
   "metadata": {},
   "outputs": [
    {
     "name": "stdout",
     "output_type": "stream",
     "text": [
      "6\n",
      "6\n",
      "6\n"
     ]
    }
   ],
   "source": [
    "y_total = []\n",
    "m_total = []\n",
    "o_total = []\n",
    "\n",
    "y0 = 0\n",
    "m0 = 0\n",
    "o0 = 0\n",
    "for i in range(len(cluster0.age)):\n",
    "    if cluster0.age[i] >=18 and cluster0.age[i]<=25:\n",
    "        y0 = y0+1\n",
    "    elif cluster0.age[i] >=26 and cluster0.age[i]<=40:\n",
    "        m0 = m0+1\n",
    "    elif cluster0.age[i] >=41 and cluster0.age[i]<=81:\n",
    "        o0 = o0+1\n",
    "    else:\n",
    "        pass\n",
    "y_total.append(y0)\n",
    "m_total.append(m0)\n",
    "o_total.append(o0)\n",
    "\n",
    "y1 = 0\n",
    "m1 = 0\n",
    "o1 = 0\n",
    "for i in range(len(cluster1.age)):\n",
    "    if cluster1.age[i] >=18 and cluster1.age[i]<=25:\n",
    "        y1 = y1+1\n",
    "    elif cluster1.age[i] >=26 and cluster1.age[i]<=40:\n",
    "        m1 = m1+1\n",
    "    elif cluster1.age[i] >=41 and cluster1.age[i]<=81:\n",
    "        o1 = o1+1\n",
    "    else:\n",
    "        pass\n",
    "y_total.append(y1)\n",
    "m_total.append(m1)\n",
    "o_total.append(o1)\n",
    "\n",
    "y2 = 0\n",
    "m2 = 0\n",
    "o2 = 0\n",
    "for i in range(len(cluster2.age)):\n",
    "    if cluster2.age[i] >=18 and cluster2.age[i]<=25:\n",
    "        y2 = y2+1\n",
    "    elif cluster2.age[i] >=26 and cluster2.age[i]<=40:\n",
    "        m2 = m2+1\n",
    "    elif cluster2.age[i] >=41 and cluster2.age[i]<=81:\n",
    "        o2 = o2+1\n",
    "    else:\n",
    "        pass\n",
    "y_total.append(y2)\n",
    "m_total.append(m2)\n",
    "o_total.append(o2)\n",
    "\n",
    "y3 = 0\n",
    "m3 = 0\n",
    "o3 = 0\n",
    "for i in range(len(cluster3.age)):\n",
    "    if cluster3.age[i] >=18 and cluster3.age[i]<=25:\n",
    "        y3 = y3+1\n",
    "    elif cluster3.age[i] >=26 and cluster3.age[i]<=40:\n",
    "        m3 = m3+1\n",
    "    elif cluster3.age[i] >=41 and cluster3.age[i]<=81:\n",
    "        o3 = o3+1\n",
    "    else:\n",
    "        pass\n",
    "y_total.append(y3)\n",
    "m_total.append(m3)\n",
    "o_total.append(o3)\n",
    "\n",
    "y4 = 0\n",
    "m4 = 0\n",
    "o4 = 0\n",
    "for i in range(len(cluster4.age)):\n",
    "    if cluster4.age[i] >=18 and cluster4.age[i]<=25:\n",
    "        y4 = y4+1\n",
    "    elif cluster4.age[i] >=26 and cluster4.age[i]<=40:\n",
    "        m4 = m4+1\n",
    "    elif cluster4.age[i] >=41 and cluster4.age[i]<=81:\n",
    "        o4 = o4+1\n",
    "    else:\n",
    "        pass\n",
    "y_total.append(y4)\n",
    "m_total.append(m4)\n",
    "o_total.append(o4)\n",
    "\n",
    "y5 = 0\n",
    "m5 = 0\n",
    "o5 = 0\n",
    "for i in range(len(cluster5.age)):\n",
    "    if cluster5.age[i] >=18 and cluster5.age[i]<=25:\n",
    "        y5 = y5+1\n",
    "    elif cluster5.age[i] >=26 and cluster5.age[i]<=40:\n",
    "        m5 = m5+1\n",
    "    elif cluster5.age[i] >=41 and cluster5.age[i]<=81:\n",
    "        o5 = o5+1\n",
    "    else:\n",
    "        pass\n",
    "y_total.append(y5)\n",
    "m_total.append(m5)\n",
    "o_total.append(o5)\n",
    "\n",
    "print(len(y_total))\n",
    "print(len(m_total))\n",
    "print(len(o_total))"
   ]
  },
  {
   "cell_type": "code",
   "execution_count": 107,
   "metadata": {},
   "outputs": [
    {
     "data": {
      "image/png": "[encoded data removed]",
      "text/plain": [
       "<Figure size 576x396 with 1 Axes>"
      ]
     },
     "metadata": {},
     "output_type": "display_data"
    },
    {
     "name": "stdout",
     "output_type": "stream",
     "text": [
      "[225, 467, 400, 279, 333, 307]\n"
     ]
    }
   ],
   "source": [
    "fig = plt.figure()\n",
    "ax = fig.add_axes([0,0,1,1])\n",
    "langs = ['cluster0','cluster1','cluster2','cluster3','cluster4','cluster5']\n",
    "students = y_total\n",
    "ax.bar(langs,students)\n",
    "plt.title(\"The number of young people 18-25 in each clsuter\")\n",
    "plt.show()\n",
    "print(y_total)"
   ]
  },
  {
   "cell_type": "code",
   "execution_count": 106,
   "metadata": {
    "scrolled": false
   },
   "outputs": [
    {
     "data": {
      "image/png": "[encoded data removed]",
      "text/plain": [
       "<Figure size 576x396 with 1 Axes>"
      ]
     },
     "metadata": {},
     "output_type": "display_data"
    },
    {
     "name": "stdout",
     "output_type": "stream",
     "text": [
      "[1329, 2861, 2077, 1717, 2243, 1641]\n"
     ]
    }
   ],
   "source": [
    "fig = plt.figure()\n",
    "ax = fig.add_axes([0,0,1,1])\n",
    "langs = ['cluster0','cluster1','cluster2','cluster3','cluster4','cluster5']\n",
    "students = m_total\n",
    "ax.bar(langs,students)\n",
    "plt.title(\"The number of medium people 26-40 in each clsuter\")\n",
    "plt.show()\n",
    "print(m_total)"
   ]
  },
  {
   "cell_type": "code",
   "execution_count": 108,
   "metadata": {},
   "outputs": [
    {
     "data": {
      "image/png": "[encoded data removed]",
      "text/plain": [
       "<Figure size 576x396 with 1 Axes>"
      ]
     },
     "metadata": {},
     "output_type": "display_data"
    },
    {
     "name": "stdout",
     "output_type": "stream",
     "text": [
      "[3788, 1556, 2928, 3308, 2813, 3376]\n"
     ]
    }
   ],
   "source": [
    "fig = plt.figure()\n",
    "ax = fig.add_axes([0,0,1,1])\n",
    "langs = ['cluster0','cluster1','cluster2','cluster3','cluster4','cluster5']\n",
    "students = o_total\n",
    "ax.bar(langs,students)\n",
    "plt.title(\"The number of old 41-81 in each clsuter\")\n",
    "plt.show()\n",
    "print(o_total)"
   ]
  },
  {
   "cell_type": "code",
   "execution_count": 97,
   "metadata": {
    "scrolled": true
   },
   "outputs": [],
   "source": [
    "# print(cluster0.age.value_counts())\n",
    "# print(cluster1.age.value_counts())\n",
    "# print(cluster2.age.value_counts())\n",
    "# print(cluster3.age.value_counts())\n",
    "# print(cluster4.age.value_counts())\n",
    "# print(cluster5.age.value_counts())"
   ]
  },
  {
   "cell_type": "markdown",
   "metadata": {},
   "source": [
    "## official feature"
   ]
  },
  {
   "cell_type": "code",
   "execution_count": 64,
   "metadata": {
    "scrolled": true
   },
   "outputs": [
    {
     "name": "stdout",
     "output_type": "stream",
     "text": [
      "241\n",
      "178\n",
      "327\n",
      "221\n",
      "203\n",
      "272\n"
     ]
    }
   ],
   "source": [
    "print(int(cluster0.official.mean()))\n",
    "print(int(cluster1.official.mean()))\n",
    "print(int(cluster2.official.mean()))\n",
    "print(int(cluster3.official.mean()))\n",
    "print(int(cluster4.official.mean()))\n",
    "print(int(cluster5.official.mean()))"
   ]
  },
  {
   "cell_type": "markdown",
   "metadata": {},
   "source": [
    "## bib feature"
   ]
  },
  {
   "cell_type": "code",
   "execution_count": 79,
   "metadata": {},
   "outputs": [
    {
     "name": "stdout",
     "output_type": "stream",
     "text": [
      "0         468\n",
      "1         479\n",
      "2         611\n",
      "3         711\n",
      "4         770\n",
      "        ...  \n",
      "5337    35852\n",
      "5338    35861\n",
      "5339    35886\n",
      "5340    35892\n",
      "5341    35912\n",
      "Name: bib, Length: 5342, dtype: object\n"
     ]
    }
   ],
   "source": [
    "print(cluster0.bib)\n",
    "# print(cluster1.bib.mean())\n",
    "# print(cluster2.bib.mean())\n",
    "# print(cluster3.bib.mean())\n",
    "# print(cluster4.bib.mean())\n",
    "# print(cluster5.bib.mean())"
   ]
  },
  {
   "cell_type": "markdown",
   "metadata": {},
   "source": [
    "## genderdiv feature"
   ]
  },
  {
   "cell_type": "code",
   "execution_count": 65,
   "metadata": {
    "scrolled": true
   },
   "outputs": [
    {
     "name": "stdout",
     "output_type": "stream",
     "text": [
      "8950.75\n",
      "1725.56\n",
      "14645.34\n",
      "6220.28\n",
      "4152.94\n",
      "11740.52\n"
     ]
    }
   ],
   "source": [
    "print(round(cluster0.genderdiv.mean(),2))\n",
    "print(round(cluster1.genderdiv.mean(),2))\n",
    "print(round(cluster2.genderdiv.mean(),2))\n",
    "print(round(cluster3.genderdiv.mean(),2))\n",
    "print(round(cluster4.genderdiv.mean(),2))\n",
    "print(round(cluster5.genderdiv.mean(),2))"
   ]
  },
  {
   "cell_type": "markdown",
   "metadata": {},
   "source": [
    "## overall feature"
   ]
  },
  {
   "cell_type": "code",
   "execution_count": 66,
   "metadata": {},
   "outputs": [
    {
     "name": "stdout",
     "output_type": "stream",
     "text": [
      "18238.33\n",
      "2446.97\n",
      "28977.3\n",
      "12930.98\n",
      "7562.2\n",
      "23623.89\n"
     ]
    }
   ],
   "source": [
    "print(round(cluster0.overall.mean(),2))\n",
    "print(round(cluster1.overall.mean(),2))\n",
    "print(round(cluster2.overall.mean(),2))\n",
    "print(round(cluster3.overall.mean(),2))\n",
    "print(round(cluster4.overall.mean(),2))\n",
    "print(round(cluster5.overall.mean(),2))"
   ]
  },
  {
   "cell_type": "markdown",
   "metadata": {},
   "source": [
    "## pace feature"
   ]
  },
  {
   "cell_type": "code",
   "execution_count": 67,
   "metadata": {
    "scrolled": true
   },
   "outputs": [
    {
     "name": "stdout",
     "output_type": "stream",
     "text": [
      "9.23\n",
      "6.8\n",
      "12.51\n",
      "8.47\n",
      "7.78\n",
      "10.39\n"
     ]
    }
   ],
   "source": [
    "print(round(cluster0.pace.mean(),2))\n",
    "print(round(cluster1.pace.mean(),2))\n",
    "print(round(cluster2.pace.mean(),2))\n",
    "print(round(cluster3.pace.mean(),2))\n",
    "print(round(cluster4.pace.mean(),2))\n",
    "print(round(cluster5.pace.mean(),2))"
   ]
  },
  {
   "cell_type": "markdown",
   "metadata": {},
   "source": [
    "## half feature"
   ]
  },
  {
   "cell_type": "code",
   "execution_count": 68,
   "metadata": {},
   "outputs": [],
   "source": [
    "indexnew = [i for i in range(len(cluster0.index))]\n",
    "cluster0.index = indexnew\n",
    "\n",
    "indexnew = [i for i in range(len(cluster1.index))]\n",
    "cluster1.index = indexnew\n",
    "\n",
    "indexnew = [i for i in range(len(cluster2.index))]\n",
    "cluster2.index = indexnew\n",
    "\n",
    "indexnew = [i for i in range(len(cluster3.index))]\n",
    "cluster3.index = indexnew\n",
    "\n",
    "indexnew = [i for i in range(len(cluster4.index))]\n",
    "cluster4.index = indexnew\n",
    "\n",
    "indexnew = [i for i in range(len(cluster5.index))]\n",
    "cluster5.index = indexnew"
   ]
  },
  {
   "cell_type": "code",
   "execution_count": 70,
   "metadata": {
    "scrolled": true
   },
   "outputs": [
    {
     "name": "stdout",
     "output_type": "stream",
     "text": [
      "111.7\n",
      "86.0\n",
      "111.7\n",
      "104.1\n",
      "96.9\n",
      "122.9\n"
     ]
    }
   ],
   "source": [
    "sum0 = 0\n",
    "for i in range(len(cluster0.index)):\n",
    "    sum0 = float(cluster0['half'][i])+sum0\n",
    "mean0 = round(sum0/int(len(cluster0['half'])),1)\n",
    "print(mean0)\n",
    "\n",
    "sum1 = 0\n",
    "for i in range(len(cluster1.index)):\n",
    "    sum1 = float(cluster1['half'][i])+sum1\n",
    "mean1 = round(sum1/int(len(cluster1['half'])),1)\n",
    "print(mean1)\n",
    "\n",
    "sum2 = 0\n",
    "for i in range(len(cluster2.index)):\n",
    "    sum2 = float(cluster2['half'][i])+sum2\n",
    "mean2= round(sum2/int(len(cluster2['half'])),1)\n",
    "print(mean0)\n",
    "\n",
    "sum3 = 0\n",
    "for i in range(len(cluster3.index)):\n",
    "    sum3 = float(cluster3['half'][i])+sum3\n",
    "mean3 = round(sum3/int(len(cluster3['half'])),1)\n",
    "print(mean3)\n",
    "\n",
    "sum4 = 0\n",
    "for i in range(len(cluster4.index)):\n",
    "    sum4 = float(cluster4['half'][i])+sum4\n",
    "mean4 = round(sum4/int(len(cluster4['half'])),1)\n",
    "print(mean4)\n",
    "\n",
    "sum5 = 0\n",
    "for i in range(len(cluster5.index)):\n",
    "    sum5 = float(cluster5['half'][i])+sum5\n",
    "mean5 = round(sum5/int(len(cluster5['half'])),1)\n",
    "print(mean5)"
   ]
  },
  {
   "cell_type": "markdown",
   "metadata": {},
   "source": [
    "## city feature"
   ]
  },
  {
   "cell_type": "code",
   "execution_count": 71,
   "metadata": {
    "scrolled": true
   },
   "outputs": [
    {
     "name": "stdout",
     "output_type": "stream",
     "text": [
      "Boston          147\n",
      "New York         65\n",
      "Toronto          51\n",
      "Chicago          40\n",
      "Cambridge        34\n",
      "               ... \n",
      "N Massapequa      1\n",
      "Co Kildare        1\n",
      "Erpeldange        1\n",
      "Severna Park      1\n",
      "Rule              1\n",
      "Name: city, Length: 2270, dtype: int64\n",
      "New York                 130\n",
      "Chicago                   83\n",
      "Boston                    61\n",
      "San Francisco             55\n",
      "Washington                51\n",
      "                        ... \n",
      "Sevierville                1\n",
      "Barnegat                   1\n",
      "Saint-Basile-Le-Grand      1\n",
      "Old Hickory                1\n",
      "Nichols Hills              1\n",
      "Name: city, Length: 1980, dtype: int64\n",
      "Boston              373\n",
      "Cambridge            91\n",
      "Brookline            81\n",
      "Somerville           78\n",
      "Newton               77\n",
      "                   ... \n",
      "Hayward               1\n",
      "Summit                1\n",
      "Somerset              1\n",
      "Cherryville           1\n",
      "East Stroudsburg      1\n",
      "Name: city, Length: 1566, dtype: int64\n",
      "New York            86\n",
      "Boston              71\n",
      "Chicago             54\n",
      "Toronto             44\n",
      "Austin              42\n",
      "                    ..\n",
      "Pearl                1\n",
      "Oil City             1\n",
      "East Andover         1\n",
      "Berkeley Heights     1\n",
      "Bochum               1\n",
      "Name: city, Length: 2258, dtype: int64\n",
      "New York          101\n",
      "Chicago            77\n",
      "Boston             69\n",
      "Austin             68\n",
      "Toronto            62\n",
      "                 ... \n",
      "Watkinsville        1\n",
      "Pagosa Springs      1\n",
      "Heyworth            1\n",
      "Key West            1\n",
      "Snellville          1\n",
      "Name: city, Length: 2237, dtype: int64\n",
      "Boston            297\n",
      "Cambridge          75\n",
      "New York           65\n",
      "Somerville         64\n",
      "Brookline          61\n",
      "                 ... \n",
      "Kennett Square      1\n",
      "Lacey               1\n",
      "Scott Depot         1\n",
      "Novi                1\n",
      "Medellin            1\n",
      "Name: city, Length: 1915, dtype: int64\n"
     ]
    }
   ],
   "source": [
    "print(cluster0.city.value_counts())\n",
    "print(cluster1.city.value_counts())\n",
    "print(cluster2.city.value_counts())\n",
    "print(cluster3.city.value_counts())\n",
    "print(cluster4.city.value_counts())\n",
    "print(cluster5.city.value_counts())"
   ]
  },
  {
   "cell_type": "markdown",
   "metadata": {},
   "source": [
    "## 10k feature "
   ]
  },
  {
   "cell_type": "code",
   "execution_count": 72,
   "metadata": {
    "scrolled": false
   },
   "outputs": [
    {
     "name": "stdout",
     "output_type": "stream",
     "text": [
      "52.2\n",
      "40.6\n",
      "64.6\n",
      "48.8\n",
      "45.6\n",
      "57.0\n"
     ]
    }
   ],
   "source": [
    "sum0 = 0\n",
    "for i in range(len(cluster0.index)):\n",
    "    #print(float(cluster0['10k'][i]))\n",
    "    sum0 = float(cluster0['10k'][i])+sum0\n",
    "mean0 = round(sum0/int(len(cluster0['10k'])),1)\n",
    "print(mean0)\n",
    "\n",
    "sum1 = 0\n",
    "for i in range(len(cluster1.index)):\n",
    "    #print(float(cluster0['10k'][i]))\n",
    "    sum1 = float(cluster1['10k'][i])+sum1\n",
    "mean1 = round(sum1/int(len(cluster1['10k'])),1)\n",
    "print(mean1)\n",
    "\n",
    "sum2 = 0\n",
    "for i in range(len(cluster2.index)):\n",
    "    #print(float(cluster0['10k'][i]))\n",
    "    sum2 = float(cluster2['10k'][i])+sum2\n",
    "mean2 = round(sum2/int(len(cluster2['10k'])),1)\n",
    "print(mean2)\n",
    "\n",
    "sum3 = 0\n",
    "for i in range(len(cluster3.index)):\n",
    "    #print(float(cluster0['10k'][i]))\n",
    "    sum3 = float(cluster3['10k'][i])+sum3\n",
    "mean3 = round(sum3/int(len(cluster3['10k'])),1)\n",
    "print(mean3)\n",
    "\n",
    "sum4 = 0\n",
    "for i in range(len(cluster4.index)):\n",
    "    #print(float(cluster0['10k'][i]))\n",
    "    sum4 = float(cluster4['10k'][i])+sum4\n",
    "mean4 = round(sum4/int(len(cluster4['10k'])),1)\n",
    "print(mean4)\n",
    "\n",
    "sum5 = 0\n",
    "for i in range(len(cluster5.index)):\n",
    "    #print(float(cluster0['10k'][i]))\n",
    "    sum5 = float(cluster5['10k'][i])+sum5\n",
    "mean5 = round(sum5/int(len(cluster5['10k'])),1)\n",
    "print(mean5)"
   ]
  },
  {
   "cell_type": "markdown",
   "metadata": {},
   "source": [
    "## 5k feature "
   ]
  },
  {
   "cell_type": "code",
   "execution_count": 73,
   "metadata": {},
   "outputs": [
    {
     "name": "stdout",
     "output_type": "stream",
     "text": [
      "26.0\n",
      "20.3\n",
      "31.7\n",
      "24.3\n",
      "22.8\n",
      "28.4\n"
     ]
    }
   ],
   "source": [
    "sum0 = 0\n",
    "for i in range(len(cluster0.index)):\n",
    "    #print(float(cluster0['10k'][i]))\n",
    "    sum0 = float(cluster0['5k'][i])+sum0\n",
    "mean0 = round(sum0/int(len(cluster0['5k'])),1)\n",
    "print(mean0)\n",
    "\n",
    "sum1 = 0\n",
    "for i in range(len(cluster1.index)):\n",
    "    #print(float(cluster0['10k'][i]))\n",
    "    sum1 = float(cluster1['5k'][i])+sum1\n",
    "mean1 = round(sum1/int(len(cluster1['5k'])),1)\n",
    "print(mean1)\n",
    "\n",
    "sum2 = 0\n",
    "for i in range(len(cluster2.index)):\n",
    "    #print(float(cluster0['10k'][i]))\n",
    "    sum2 = float(cluster2['5k'][i])+sum2\n",
    "mean2 = round(sum2/int(len(cluster2['5k'])),1)\n",
    "print(mean2)\n",
    "\n",
    "sum3 = 0\n",
    "for i in range(len(cluster3.index)):\n",
    "    #print(float(cluster0['10k'][i]))\n",
    "    sum3 = float(cluster3['5k'][i])+sum3\n",
    "mean3 = round(sum3/int(len(cluster3['5k'])),1)\n",
    "print(mean3)\n",
    "\n",
    "sum4 = 0\n",
    "for i in range(len(cluster4.index)):\n",
    "    #print(float(cluster0['10k'][i]))\n",
    "    sum4 = float(cluster4['5k'][i])+sum4\n",
    "mean4 = round(sum4/int(len(cluster4['5k'])),1)\n",
    "print(mean4)\n",
    "\n",
    "sum5 = 0\n",
    "for i in range(len(cluster5.index)):\n",
    "    #print(float(cluster0['10k'][i]))\n",
    "    sum5 = float(cluster5['5k'][i])+sum5\n",
    "mean5 = round(sum5/int(len(cluster5['5k'])),1)\n",
    "print(mean5)"
   ]
  },
  {
   "cell_type": "markdown",
   "metadata": {},
   "source": [
    "## 20k feature"
   ]
  },
  {
   "cell_type": "code",
   "execution_count": 74,
   "metadata": {},
   "outputs": [
    {
     "name": "stdout",
     "output_type": "stream",
     "text": [
      "105.8\n",
      "81.5\n",
      "135.5\n",
      "98.6\n",
      "91.8\n",
      "116.4\n"
     ]
    }
   ],
   "source": [
    "sum0 = 0\n",
    "for i in range(len(cluster0.index)):\n",
    "    #print(float(cluster0['10k'][i]))\n",
    "    sum0 = float(cluster0['20k'][i])+sum0\n",
    "mean0 = round(sum0/int(len(cluster0['20k'])),1)\n",
    "print(mean0)\n",
    "\n",
    "sum1 = 0\n",
    "for i in range(len(cluster1.index)):\n",
    "    #print(float(cluster0['10k'][i]))\n",
    "    sum1 = float(cluster1['20k'][i])+sum1\n",
    "mean1 = round(sum1/int(len(cluster1['20k'])),1)\n",
    "print(mean1)\n",
    "\n",
    "sum2 = 0\n",
    "for i in range(len(cluster2.index)):\n",
    "    #print(float(cluster0['10k'][i]))\n",
    "    sum2 = float(cluster2['20k'][i])+sum2\n",
    "mean2 = round(sum2/int(len(cluster2['20k'])),1)\n",
    "print(mean2)\n",
    "\n",
    "sum3 = 0\n",
    "for i in range(len(cluster3.index)):\n",
    "    #print(float(cluster0['10k'][i]))\n",
    "    sum3 = float(cluster3['20k'][i])+sum3\n",
    "mean3 = round(sum3/int(len(cluster3['20k'])),1)\n",
    "print(mean3)\n",
    "\n",
    "sum4 = 0\n",
    "for i in range(len(cluster4.index)):\n",
    "    #print(float(cluster0['10k'][i]))\n",
    "    sum4 = float(cluster4['20k'][i])+sum4\n",
    "mean4 = round(sum4/int(len(cluster4['20k'])),1)\n",
    "print(mean4)\n",
    "\n",
    "sum5 = 0\n",
    "for i in range(len(cluster5.index)):\n",
    "    #print(float(cluster0['10k'][i]))\n",
    "    sum5 = float(cluster5['20k'][i])+sum5\n",
    "mean5 = round(sum5/int(len(cluster5['20k'])),1)\n",
    "print(mean5)"
   ]
  },
  {
   "cell_type": "markdown",
   "metadata": {},
   "source": [
    "## 25k feature"
   ]
  },
  {
   "cell_type": "code",
   "execution_count": 75,
   "metadata": {},
   "outputs": [
    {
     "name": "stdout",
     "output_type": "stream",
     "text": [
      "133.8\n",
      "102.2\n",
      "175.0\n",
      "124.2\n",
      "115.4\n",
      "147.9\n"
     ]
    }
   ],
   "source": [
    "sum0 = 0\n",
    "for i in range(len(cluster0.index)):\n",
    "    #print(float(cluster0['10k'][i]))\n",
    "    sum0 = float(cluster0['25k'][i])+sum0\n",
    "mean0 = round(sum0/int(len(cluster0['25k'])),1)\n",
    "print(mean0)\n",
    "\n",
    "sum1 = 0\n",
    "for i in range(len(cluster1.index)):\n",
    "    #print(float(cluster0['10k'][i]))\n",
    "    sum1 = float(cluster1['25k'][i])+sum1\n",
    "mean1 = round(sum1/int(len(cluster1['25k'])),1)\n",
    "print(mean1)\n",
    "\n",
    "sum2 = 0\n",
    "for i in range(len(cluster2.index)):\n",
    "    #print(float(cluster0['10k'][i]))\n",
    "    sum2 = float(cluster2['25k'][i])+sum2\n",
    "mean2 = round(sum2/int(len(cluster2['25k'])),1)\n",
    "print(mean2)\n",
    "\n",
    "sum3 = 0\n",
    "for i in range(len(cluster3.index)):\n",
    "    #print(float(cluster0['10k'][i]))\n",
    "    sum3 = float(cluster3['25k'][i])+sum3\n",
    "mean3 = round(sum3/int(len(cluster3['25k'])),1)\n",
    "print(mean3)\n",
    "\n",
    "sum4 = 0\n",
    "for i in range(len(cluster4.index)):\n",
    "    #print(float(cluster0['10k'][i]))\n",
    "    sum4 = float(cluster4['25k'][i])+sum4\n",
    "mean4 = round(sum4/int(len(cluster4['25k'])),1)\n",
    "print(mean4)\n",
    "\n",
    "sum5 = 0\n",
    "for i in range(len(cluster5.index)):\n",
    "    #print(float(cluster0['10k'][i]))\n",
    "    sum5 = float(cluster5['25k'][i])+sum5\n",
    "mean5 = round(sum5/int(len(cluster5['25k'])),1)\n",
    "print(mean5)"
   ]
  },
  {
   "cell_type": "markdown",
   "metadata": {},
   "source": [
    "## 30k feature"
   ]
  },
  {
   "cell_type": "code",
   "execution_count": 76,
   "metadata": {},
   "outputs": [
    {
     "name": "stdout",
     "output_type": "stream",
     "text": [
      "163.7\n",
      "123.6\n",
      "218.5\n",
      "151.4\n",
      "140.1\n",
      "182.2\n"
     ]
    }
   ],
   "source": [
    "sum0 = 0\n",
    "for i in range(len(cluster0.index)):\n",
    "    #print(float(cluster0['10k'][i]))\n",
    "    sum0 = float(cluster0['30k'][i])+sum0\n",
    "mean0 = round(sum0/int(len(cluster0['30k'])),1)\n",
    "print(mean0)\n",
    "\n",
    "sum1 = 0\n",
    "for i in range(len(cluster1.index)):\n",
    "    #print(float(cluster0['10k'][i]))\n",
    "    sum1 = float(cluster1['30k'][i])+sum1\n",
    "mean1 = round(sum1/int(len(cluster1['30k'])),1)\n",
    "print(mean1)\n",
    "\n",
    "sum2 = 0\n",
    "for i in range(len(cluster2.index)):\n",
    "    #print(float(cluster0['10k'][i]))\n",
    "    sum2 = float(cluster2['30k'][i])+sum2\n",
    "mean2 = round(sum2/int(len(cluster2['30k'])),1)\n",
    "print(mean2)\n",
    "\n",
    "sum3 = 0\n",
    "for i in range(len(cluster3.index)):\n",
    "    #print(float(cluster0['10k'][i]))\n",
    "    sum3 = float(cluster3['30k'][i])+sum3\n",
    "mean3 = round(sum3/int(len(cluster3['30k'])),1)\n",
    "print(mean3)\n",
    "\n",
    "sum4 = 0\n",
    "for i in range(len(cluster4.index)):\n",
    "    #print(float(cluster0['10k'][i]))\n",
    "    sum4 = float(cluster4['30k'][i])+sum4\n",
    "mean4 = round(sum4/int(len(cluster4['30k'])),1)\n",
    "print(mean4)\n",
    "\n",
    "sum5 = 0\n",
    "for i in range(len(cluster5.index)):\n",
    "    #print(float(cluster0['10k'][i]))\n",
    "    sum5 = float(cluster5['30k'][i])+sum5\n",
    "mean5 = round(sum5/int(len(cluster5['30k'])),1)\n",
    "print(mean5)"
   ]
  },
  {
   "cell_type": "markdown",
   "metadata": {},
   "source": [
    "## 35k feature"
   ]
  },
  {
   "cell_type": "code",
   "execution_count": 77,
   "metadata": {},
   "outputs": [
    {
     "name": "stdout",
     "output_type": "stream",
     "text": [
      "195.5\n",
      "145.8\n",
      "264.8\n",
      "180.1\n",
      "166.0\n",
      "219.1\n"
     ]
    }
   ],
   "source": [
    "sum0 = 0\n",
    "for i in range(len(cluster0.index)):\n",
    "    #print(float(cluster0['10k'][i]))\n",
    "    sum0 = float(cluster0['35k'][i])+sum0\n",
    "mean0 = round(sum0/int(len(cluster0['35k'])),1)\n",
    "print(mean0)\n",
    "\n",
    "sum1 = 0\n",
    "for i in range(len(cluster1.index)):\n",
    "    #print(float(cluster0['10k'][i]))\n",
    "    sum1 = float(cluster1['35k'][i])+sum1\n",
    "mean1 = round(sum1/int(len(cluster1['35k'])),1)\n",
    "print(mean1)\n",
    "\n",
    "sum2 = 0\n",
    "for i in range(len(cluster2.index)):\n",
    "    #print(float(cluster0['10k'][i]))\n",
    "    sum2 = float(cluster2['35k'][i])+sum2\n",
    "mean2 = round(sum2/int(len(cluster2['35k'])),1)\n",
    "print(mean2)\n",
    "\n",
    "sum3 = 0\n",
    "for i in range(len(cluster3.index)):\n",
    "    #print(float(cluster0['10k'][i]))\n",
    "    sum3 = float(cluster3['35k'][i])+sum3\n",
    "mean3 = round(sum3/int(len(cluster3['35k'])),1)\n",
    "print(mean3)\n",
    "\n",
    "sum4 = 0\n",
    "for i in range(len(cluster4.index)):\n",
    "    #print(float(cluster0['10k'][i]))\n",
    "    sum4 = float(cluster4['35k'][i])+sum4\n",
    "mean4 = round(sum4/int(len(cluster4['35k'])),1)\n",
    "print(mean4)\n",
    "\n",
    "sum5 = 0\n",
    "for i in range(len(cluster5.index)):\n",
    "    #print(float(cluster0['10k'][i]))\n",
    "    sum5 = float(cluster5['35k'][i])+sum5\n",
    "mean5 = round(sum5/int(len(cluster5['35k'])),1)\n",
    "print(mean5)"
   ]
  },
  {
   "cell_type": "markdown",
   "metadata": {},
   "source": [
    "## 40k feature"
   ]
  },
  {
   "cell_type": "code",
   "execution_count": 78,
   "metadata": {},
   "outputs": [
    {
     "name": "stdout",
     "output_type": "stream",
     "text": [
      "227.8\n",
      "168.1\n",
      "309.6\n",
      "209.2\n",
      "192.2\n",
      "256.4\n"
     ]
    }
   ],
   "source": [
    "sum0 = 0\n",
    "for i in range(len(cluster0.index)):\n",
    "    #print(float(cluster0['10k'][i]))\n",
    "    sum0 = float(cluster0['40k'][i])+sum0\n",
    "mean0 = round(sum0/int(len(cluster0['40k'])),1)\n",
    "print(mean0)\n",
    "\n",
    "sum1 = 0\n",
    "for i in range(len(cluster1.index)):\n",
    "    #print(float(cluster0['10k'][i]))\n",
    "    sum1 = float(cluster1['40k'][i])+sum1\n",
    "mean1 = round(sum1/int(len(cluster1['40k'])),1)\n",
    "print(mean1)\n",
    "\n",
    "sum2 = 0\n",
    "for i in range(len(cluster2.index)):\n",
    "    #print(float(cluster0['10k'][i]))\n",
    "    sum2 = float(cluster2['40k'][i])+sum2\n",
    "mean2 = round(sum2/int(len(cluster2['40k'])),1)\n",
    "print(mean2)\n",
    "\n",
    "sum3 = 0\n",
    "for i in range(len(cluster3.index)):\n",
    "    #print(float(cluster0['10k'][i]))\n",
    "    sum3 = float(cluster3['40k'][i])+sum3\n",
    "mean3 = round(sum3/int(len(cluster3['40k'])),1)\n",
    "print(mean3)\n",
    "\n",
    "sum4 = 0\n",
    "for i in range(len(cluster4.index)):\n",
    "    #print(float(cluster0['10k'][i]))\n",
    "    sum4 = float(cluster4['40k'][i])+sum4\n",
    "mean4 = round(sum4/int(len(cluster4['40k'])),1)\n",
    "print(mean4)\n",
    "\n",
    "sum5 = 0\n",
    "for i in range(len(cluster5.index)):\n",
    "    #print(float(cluster0['10k'][i]))\n",
    "    sum5 = float(cluster5['40k'][i])+sum5\n",
    "mean5 = round(sum5/int(len(cluster5['40k'])),1)\n",
    "print(mean5)"
   ]
  },
  {
   "cell_type": "code",
   "execution_count": null,
   "metadata": {},
   "outputs": [],
   "source": []
  }
 ],
 "metadata": {
  "kernelspec": {
   "display_name": "Python 3",
   "language": "python",
   "name": "python3"
  },
  "language_info": {
   "codemirror_mode": {
    "name": "ipython",
    "version": 3
   },
   "file_extension": ".py",
   "mimetype": "text/x-python",
   "name": "python",
   "nbconvert_exporter": "python",
   "pygments_lexer": "ipython3",
   "version": "3.7.3"
  }
 },
 "nbformat": 4,
 "nbformat_minor": 4
}
